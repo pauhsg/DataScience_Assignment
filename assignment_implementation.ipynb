{
 "cells": [
  {
   "cell_type": "markdown",
   "id": "d2a50f71",
   "metadata": {},
   "source": [
    "# Playtika programming assignment - Sentiment classification"
   ]
  },
  {
   "cell_type": "markdown",
   "id": "98bb8560",
   "metadata": {},
   "source": [
    "## 1. Get the dataset\n",
    "\n",
    "The dataset was downloaded from https://ai.stanford.edu/~amaas/data/sentiment/.\n",
    "\n",
    "\n",
    "It is composed of 50'000 movie reviews with polarity labels (positive/negative). \n",
    "\n",
    "\n",
    "As stated in the README, it is balanced (i.e. 50% positive and 50% negative reviews) and already splitted in half to provide balanced train and test sets. Each of the latter are composed of 25'000 samples, i.e. 12'500 positive reviews and 12'500 negative reviews.\n",
    "\n",
    "\n",
    "Each review is provided in a single .txt file. To ease the use of the dataset, all the .txt files were merged in a single .txt file for the train set and same for the test set. This merging was done following those steps (https://github.com/aaronkub/machine-learning-examples/blob/master/imdb-sentiment-analysis/preprocess_reviews.sh). "
   ]
  },
  {
   "cell_type": "markdown",
   "id": "74ef8be6",
   "metadata": {},
   "source": [
    "## 2. Data analysis\n",
    "\n",
    "Let's take a look at some samples. The first 12'500 samples are positive reviews, and the last 12'500 samples negative reviews."
   ]
  },
  {
   "cell_type": "markdown",
   "id": "d462faa9",
   "metadata": {},
   "source": [
    "#### Train set"
   ]
  },
  {
   "cell_type": "code",
   "execution_count": 1,
   "id": "badef208",
   "metadata": {
    "scrolled": false
   },
   "outputs": [],
   "source": [
    "train_set = list()\n",
    "for line in open('data/aclImdb/full_sets/full_train.txt', 'r'):\n",
    "    train_set.append(line.strip())\n",
    "    \n",
    "train_set[35:40]"
   ]
  },
  {
   "cell_type": "code",
   "execution_count": 2,
   "id": "349285ef",
   "metadata": {},
   "outputs": [
    {
     "data": {
      "text/plain": [
       "['This movie was the worst movie I have seen since \"Date Movie.\" I was laughing through out the whole movie instead of being scared. It was funny how the snakes would search for particular section of the passengers body to attack for example, the eye, the tongue, the butt, the breast. If we have seen national geographic channel we know snakes wont stay clinched on the body once they bite. For each particular scene the snakes would bite the passengers and would stay on the body biting the person. I believe the producer did not study his information on snakes and their behavior. I cant believe I wasted my money on this movie.So I don\\'t recommend this movie trust just wait until it is at the dollar theatre or rent it.',\n",
       " 'I am sick and tired of all these little weenies going on about how this movie \"rocked\". It is pure CG over-acted CRAP! Don\\'t send an Assassin, it\\'s much more sensible to smuggle hundreds of brightly colored, aggressive, venomous Snakes on a Plane! The only reason people like this movie because they feel they have to. It is not \"so bad it\\'s good\" It\\'s so bad I\\'d rather be poked in the eye with a sharp stick then be subjected to this again. I honestly thought was going to be a COMEDY like AIRPLANE! A spoof! Was I wrong. It\\'s that whole \"It sucks, get it!\" Or Samuel A. Jackson yells \"Snakes on the Plane! thing. Well I\\'m sorry, I don\\'t get it. It looks like a bunch of wimps gave the movie industry more money to make more movies like Triple X and Die Hard. If you what spend money to watch a movie in the company of the same people who bought William Hung\\'s CD, still live in their mommies basement, and stink of plastic chair sweat from days on the computer playing online games and looking at porn, then rush to the theater and ask for one (since I doubt you have a girlfriend) ticket for Snakes on a stupid-butt Plane. To hell with movies like Full metal Jacket, Pulp Fiction, True Romance, 12 Monkeys, Clerks, etc. There\\'s no irony in watching good movies. The true decline of the western civilization. Calling this a cult film is an Insult to true Cult classics like Repo man, or even Orgazmo. I\\'ve said enough here.',\n",
       " 'I saw the 10p.m. showing and I must say that this movie was nothing special. Although I did not leave the theater wanting my time back (as I don\\'t actually pay for movies anymore) I didn\\'t really find any redeeming qualities.<br /><br />There were a few lines and such that made me chuckle, but mostly the film seemed to consist of rampant fan service to the younger (in mind more than age as this film is rated R) male audience. The fan service seemed out of place and rather distracting as well. I know you all want to hear Samuel L. say his infamous line, but let\\'s be honest, it\\'s a whole lot of hype for very little pay off. The only truly horrible part of the film was the CG, which looked very digitized and did not mesh well with the live action on the screen.<br /><br />Now I am a reasonable man, I knew going into the theater that I wasn\\'t going to be seeing \"Casablanka,\" and I am at least thankful that this film is an original (albiet inane) idea and not some re-make or franchise spin off. However to be honest, if you are not a part of the cult following you are probably better off spending your money elsewhere and seeing the film either in a second run theater in a few weeks or renting it in a few months.',\n",
       " 'This movie deserves more than a 1. But I\\'m giving it a one because so many fricken fan boys have given it a 10 resulting in it getting a rating that\\'ll take it into the top 100 list. Seriously it\\'s not that great its not that bad. Its a stupid cult classic with so many fricken fan boys it\\'s ridiculous. These are the types who probably still laugh at Chuck Norris jokes and still say \"I\\'m rick james b!tch\" No matter how old or annoying it gets. I dread having to hear \"I\\'m tired of MFn snakes on this MFn plane\" months from now from idiots trying to be funny. Its crappy plot crap acting etc. Its Okay to love a bad movie, but you still gotta admit its a bad movie.<br /><br />Wait for the Marine starring John Cena if you wanna see a real movie',\n",
       " \"when discussing a movie titled 'snakes on a plane', we should point out early that the snakes are pretty darn important to the plot.<br /><br />what we have here are very bad cgi snakes that neither look nor move like real snakes. snakes are scary because they appear to be slimy, they crawl they slither. these snakes do nothing of the sort. they glide along like they would in a video game. they are cartoon snakes. i would go as far to say that even someone that had a major phobia against real snakes would not find these ones scary<br /><br />why on earth then would you want to include extreme close ups of these cgi failures? why not rely on suspense.. the whole 'less is more' ethic. or better still, why not just make them look good in the first place? and then maybe still use them sparingly<br /><br />take one look at john carpenters 'the thing'. here we have real slime, and gore of eerie proportions. 20 years go by and we get this pile of stinking sfx crap 'snakes on a plane'. when are these people going to wake up and smell the coffee? special effects are going backwards!<br /><br />sure you could say.. but the movie is a joke, get it? sure i'm with that idea, but do it well! in addition to the above, this movie has crap dialogue. and the music and sound effects are not creepy or memorable in any way.<br /><br />i could handle every other actor being part of this movie, except for jackson. what was he doing there? the man who starred in pulp fiction 10 years ago. is this career progression? are you offering people value for money? no. i'd like to know what Tarantino thought when he was half way through this stinker of a movie<br /><br />the current generation seem to have very low expectations. and Hollywood seems to be offering them just what they want. on leaving the cinema i saw a number of advertisements for some truly horrendous looking future releases including... DOA: dead or alive, (another) cgi animal film called 'flushed away', and another crap looking comedy named 'click'. in addition to that i saw some awful trailers, including one for (another) crap British horror/comedy. i've truly not seen the movie industry in a mess like this for a long time<br /><br />expect to see this movie for sale in the DVD bargain section for £1 in 6 months time. and if you're expecting to see a black comedy with tonnes of great looking snakes, and some bad ass cool dialogue coming from samuel l jacksons lips. forget it.\"]"
      ]
     },
     "execution_count": 2,
     "metadata": {},
     "output_type": "execute_result"
    }
   ],
   "source": [
    "train_set = list()\n",
    "for line in open('data/aclImdb/full_sets/full_train.txt', 'r'):\n",
    "    train_set.append(line.strip())\n",
    "    \n",
    "train_set[13000:13005]"
   ]
  },
  {
   "cell_type": "markdown",
   "id": "1ac74b57",
   "metadata": {},
   "source": [
    "#### Test set"
   ]
  },
  {
   "cell_type": "code",
   "execution_count": 3,
   "id": "4b2ce659",
   "metadata": {
    "scrolled": false
   },
   "outputs": [
    {
     "data": {
      "text/plain": [
       "[\"Nicole Finn (Madonna) is just being released from prison. Although she is ordered to go by bus to Philadelphia, she wants to stick around the place she was arrested. This is because she claims she has information that would clear her record. Louden (Griffin Dunne) is assigned to escort her to the bus by his future father in law. Louden will be driving around the city anyway (in his future mother in law's Rolls Royce), picking up the wedding ring and a rare big, big cat for an eccentric collector. Nicki, however, starts the ensuing mayhem as soon as she jumps in the Rolls to take over the driving. Between big cats, taxi drivers, hit men, bridesmaids, and a wedding cake with guns, lawyer Louden knows he's not in Kansas anymore. Is there a way out of the madness? This film is a wild trip down comedy avenue. Madonna and Dunneare perfect foils to each other, making their connection uproarious, as they play out their roles as an ex-con and an uptight, button-down lawyer, respectively. The script is laudable in it's ability to send the viewer into fits of hysteria as one implausible scene gives way to the next one, and the next. Everything secondary, from the supporting actors to the scenery to the costumes, are also quite nice. If you know someone who is in need of a jolt of joy, rent this movie for them. You will both be cheerio pronto.\",\n",
       " 'i have to rate this movie at a 10. i\\'m sorry but i think it\\'s classic comedy. then, if you\\'re rating it to other Madonna movies...well, what? you wanna tell me it wasn\\'t her best movie ever? didn\\'t Mira Sorvino win an Oscar for almost the same performance not ten years later? please, this movie deserves much more credit than it gets. plus, i like to think of it as an A+ sociological study into the lifestyles of the 80\\'s. remember when you could shoplift from Sam Goody and Cartier in the same day? remember when women wore bushy eyebrows proudly? so it was no \"Last Emperor\", it was still good. there are certain movies i\\'d be willing to watch everyday. three, actually, that pep up my day and make me smile. if you like \"Who\\'s That Girl?\" then i\\'d also recommend \"Party Girl\" and \"Romy and Michelle\\'s High School Reunion\".',\n",
       " \"I haven't been a fan of Madonna for quite sometime now, however, I thought I would comment on this film.<br /><br />This film mistaken. One of them, as well as Madonna, was panned by the critics. They were highly mistaken and many potential viewers were turned off by the bad reviews.<br /><br />First, Madonna does an excellent job in this movie which was one of her first. She plays a ditsy blonde in the film, she is far from a ditsy blonde in real life. Most critics were somewhat prejudiced by her singing fame and didn't give her a fair shake. When you view this film I hope that you understand that the accent and the goofiness is just acting. She was absolutely hysterical as was the film.<br /><br />Griffen Dunne is another person who was not given a fair review in the film. If you take a look at his filmography, you will see he is quite an accomplished actor.<br /><br />As far as the movie itself, this is something similar to pretty woman, but came 3 years before the Roberts, Gere success. It's a goof-ball comedy with lots of site gags, slapstick and one liners. Some of the comedy is deadpan and takes a comedy aficionado to really appreciate the more subtle humor.<br /><br />I know this doesn't tell you much about the movie, however, I hope this helps dispel any belief that this is a poor movie. It is absolutely worth renting for an enjoyable night of great fun.<br /><br />Peace.<br /><br />Gary\",\n",
       " \"Nikki Finn is the kind of girl I would marry. Never boring, always thinking positively, good with animals. Okay, as one reviewer wrote, a bit too much peroxide, lipstick, and eyebrows (Only Madonna could get away with that). But that's why I love Nikki Finn, she's not your ordinary girl. She makes things happen, always exciting to be around, and always honest. Sure, she steals, but she doesn't rob or murder (unless you're out to do her in). She knows which rules can be broken and which ones should be obeyed. She knows what to take and what can't be stolen. If you need a favor from her, she's in 100%. Bottom line: She knows how to enjoy life. Nikki is always loving (which is why she has a way with wild animals), and completely dedicated to those she loves, and who love her.<br /><br />Who's That Girl? She's the girl for me.\",\n",
       " \"When I see a movie, I usually seek entertainment. But of course if I know what genre the move is, then I will seek what it is meant to do. For example, if it is a deep film, I expect the film to rile thoughts up in my cranium and make me ponder what it is saying. But Who's That Girl? is not a deep film. But it is entertaining, nonetheless. It's a campy sort of film that's a joy to watch. There's barely a boring moment in the film and there are plenty of humorous parts. I've watched it when I was younger. The cast is always entertaining as usual. I had a small crush on Griffin Dunne even though he wasn't the typical male heartthrob at the time. Haviland Morris also stars. And late Austrian actress Bibi Besch is here too! Overall, a delight!\"]"
      ]
     },
     "execution_count": 3,
     "metadata": {},
     "output_type": "execute_result"
    }
   ],
   "source": [
    "test_set = list()\n",
    "for line in open('data/aclImdb/full_sets/full_test.txt', 'r'):\n",
    "    test_set.append(line.strip())\n",
    "    \n",
    "test_set[60:65]"
   ]
  },
  {
   "cell_type": "code",
   "execution_count": 4,
   "id": "92f53db0",
   "metadata": {},
   "outputs": [
    {
     "data": {
      "text/plain": [
       "[\"I chose to watch this film because I am a Stephen Nichols fan. Unfortunately, I am unhappy with Mr. Nichols' choice to do this movie. The film was slow, badly acted, and included some very graphic sex scenes of Mr. Nichols' character with a very young woman. Watch at your own peril!\",\n",
       " \"Your idol will deceive you in this movie. Stephen Nichols is mis-cast as a young german student still bending under his father's orders although the actor obviously looks near 40 years-old. This makes his relationship (a collection of copulation scenes, basically) to a very young looking girl all the more disturbing. The character's have no dimension and the war depiction serves only as a backdrop for this soft porn wannabe. Nichols, who is one of daytime TV's best performers shows no passion in what is to be the main interest of this movie: watching him have sex over and over with this girl. It's like watching two animals going at it. If you're a fan of this actor's talent in other projects, don't rent this for you will never view him in the same way. If, on the other hand, you want to see Stephen Nichols have an orgasm in front of the camera, you might like it: Stephen will show you his naked butt, lots of tongue work, his groaning range, but not his talent as this character who's obviously just as sex-driven and misjudging as he was for wanting to do such personal things in front of the camera. He may have found it kinky but I didn't - a BIG deception!\",\n",
       " \"Dictated by thin experience (of both life and industry) and no cash Sofia Coppola's early short is almost by necessity an observational piece set on a high school campus. The cast are rather weak and do not benefit from being shot in b&w (it's difficult to tell the characters apart). The sound editing does little to help a simple story of fickle teenage allegiance.<br /><br />Yet there are one or two things to note. Inamongst the inconsistent editing the high school campus is filmed with a balance of aspirant wide and intimate close-up shots. The editing-to-music also creates an interest and momentum (without descent into the netherworld of the Music Video). Coppola clearly made an attempt to vary the pace of the film. The dramatic turn is cut fast and to-the-point and the second act is almost non-existent; we recognise it's actually been played out in tandem with the first, which is the point of the narrator-on-crutches trope (who is an otherwise curiously appended character in that first act).<br /><br />Despite these notes it's an awkward short. 2/10\",\n",
       " \"Well, I must say, I initially found this short to be quite average, but having watched it nearly 5 times since (its constantly shown on IFC), I've developed an enjoyment of the simple plot elements and reality of the situations presented. Sofia Coppola contributes a solid addition to the category.\",\n",
       " \"Although this has to be the nadir of season six, this schmaltzy episode isn't badly written or acted. It's just that most of us looked to the X-Files for taut, gripping horror/thrillers ending without easy answers and moving toward dark but fathomable conspiracies. Season 6 gave us a stream of tongue-in-cheek comedies that undermined the show's continuity and, frankly, made Simpsons' Halloween Specials look like great thriller TV.<br /><br />In this episode Victoria Jackson of SNL fame plays the long-suffering girlfriend of a man who sets himself up as a rainmaker. However her weatherman boss is the one who truly loves her and Mulder winds up having to provide him dating advice in order to get out of town.<br /><br />There's some playful fun with the chemistry between the agents and some amusing but none-too-sophisticated characterization of Midwestern hicks. It's nothing you'd want to see more than once!<br /><br />It's hard to figure out Season 6. X-Files creator Chris Carter seems bored by the whole 'Syndicate conspiracy' story arc and abandons responsibility to the black comedy writers.\"]"
      ]
     },
     "execution_count": 4,
     "metadata": {},
     "output_type": "execute_result"
    }
   ],
   "source": [
    "test_set = list()\n",
    "for line in open('data/aclImdb/full_sets/full_test.txt', 'r'):\n",
    "    test_set.append(line.strip())\n",
    "    \n",
    "test_set[15000:15005]"
   ]
  },
  {
   "cell_type": "markdown",
   "id": "89443fd3",
   "metadata": {},
   "source": [
    "From the README, we already know how many samples we have and how many of them belong to each class. Let's check the distribution of the length of the reviews for each class (positive/negative)."
   ]
  },
  {
   "cell_type": "code",
   "execution_count": 5,
   "id": "33332f54",
   "metadata": {},
   "outputs": [
    {
     "data": {
      "image/png": "[encoded data removed]",
      "text/plain": [
       "<Figure size 432x288 with 1 Axes>"
      ]
     },
     "metadata": {
      "needs_background": "light"
     },
     "output_type": "display_data"
    }
   ],
   "source": [
    "from src.helpers import get_reviews_length_histogram\n",
    "get_reviews_length_histogram(train_set)"
   ]
  },
  {
   "cell_type": "code",
   "execution_count": 6,
   "id": "df9afc12",
   "metadata": {},
   "outputs": [
    {
     "data": {
      "image/png": "[encoded data removed]",
      "text/plain": [
       "<Figure size 432x288 with 1 Axes>"
      ]
     },
     "metadata": {
      "needs_background": "light"
     },
     "output_type": "display_data"
    }
   ],
   "source": [
    "get_reviews_length_histogram(test_set)"
   ]
  },
  {
   "cell_type": "markdown",
   "id": "b6abf574",
   "metadata": {},
   "source": [
    "In both cases, the shape of the distribution for negative and positive reviews is rather similar. However, it seems like negative reviews are in general shorter than positive reviews."
   ]
  },
  {
   "cell_type": "markdown",
   "id": "700e68a8",
   "metadata": {},
   "source": [
    "## 3. Clean data\n",
    "\n",
    "From the samples shown in previous part, we see that some cleaning steps are needed before using the data for machine learning experiments. The cleaning steps include:\n",
    "\n",
    "- removing line breaks\n",
    "- removing non-alphabetical characters (numbers, symbols, punctuation)\n",
    "- putting all reviews in lower cases \n",
    "- removing contractions such as \"I'll\"\n",
    "- removing stop words ad words of < 2 letters\n",
    "- removing urls\n",
    "\n",
    "Those steps are implemented in the script `helpers.py`."
   ]
  },
  {
   "cell_type": "code",
   "execution_count": 7,
   "id": "c5b902f8",
   "metadata": {},
   "outputs": [],
   "source": [
    "from src.helpers import clean_reviews\n",
    "\n",
    "train_set_clean = clean_reviews(train_set)\n",
    "test_set_clean = clean_reviews(test_set)"
   ]
  },
  {
   "cell_type": "markdown",
   "id": "55b1fac8",
   "metadata": {},
   "source": [
    "Here are some resulting reviews:"
   ]
  },
  {
   "cell_type": "code",
   "execution_count": 8,
   "id": "faaa6e71",
   "metadata": {},
   "outputs": [
    {
     "data": {
      "text/plain": [
       "['previously wrote loved titanic cried ending many times guy also wondered great movie many awards applauded many critics given rating imdb com users well looked breakdown user ratings votes gave rating gave rating irrational imdb users effect pulled overall rating previous comments blamed unusual voting pattern sudden surge ratings high rating dropping gradually suddenly reversing course jumping rating level one thing hatred leonardo dicaprio believe tuned enough chat rooms see banter young people young men mostly defame left right absolutely hate man part giving credit titanic answer one user talking someone really like movie much gave etc everyone entitled taste one convince imdb rating overall titanic pulled level inordinate number ridiculous ratings fair reflection overall motion picture let demonstrate point comparing imdb user voting pattern titanic randomly chosen box office critical bombs many prove point heaven gate pulled theaters quickly poor box office showing imdb voters ratings ratings ratings overall rating big top pee wee got ratings ratings overall rating cat people got ratings ratings overall rating blind date got ratings ratings overall rating jumpin jack flash got ratings ratings overall rating films common titanic percentages ratings lower titanic none stinkers ever nominated single award titanic got ratings compare movies mentioned explanation hatred leo factor',\n",
       " 'loved movie since saw opening day touching beautiful strongly recommend seeing movie watch family far mpaa rating thematic elements prolonged scenes disastor nudity sexuality language',\n",
       " 'movie titanic makes much night remember writes tragic history event always talked never forgotten criticised idea could ever make movie like titanic moving touching every time watch could ever replace epic masterpiece almost impossible director doubt major impact film simple disaster film boring watch converted unbelievable romance yes romance type either bother never see romance like guaranteed everything amazing effects music sublime acting movie creates amazing visual wonderful feeling everything looks real live legend titanic shown brilliantly classes looks accommodation acting real effect dicaprio winslet simply best playing roles one could done better partly reason film great guess much talk plot simple acting brilliant based true story probably half consumers watch film share tears thanks imaginable ending never forgotten well seen film missing something hesterical film idolise hollywood could get better moving film time listen people see understand landmark surprised cry',\n",
       " 'problems film heard lot criticisms saying overlong overrated true three hours long amazed goes quickly think overrated think imdb rating perfectly decent film looks sumptuous gorgeous costumes excellent effects direction james cameron rarely slips focus leonardo dicaprio gives one best performances jack kate winslet lovely rose david warner great actor steals every scene story rich detail hot character development obvious love story moving needs though first bit movie little slow last hour extremely riveting confess edge seat titanic sank also say last five minutes moving music score james horner lovely though never huge fan song heart miniseries good suffered undeveloped scenarios historical inaccuracies overall give titanic bethany cox',\n",
       " 'think james cameron might becoming favorite director second review movies anyway everyone remembers rms titanic big fast unsinkable april news one biggest tragedies ever well james cameron decided make movie star two fictional characters spotlight instead ship well onto main review let remind opinion zero fact fact present event film two main characters jack leonardo dicaprio rose kate winslet annoying much watch find could become annoying tinyurl com ojhoyn main villain guess bad luck fate hand god blasphemy intended plain caledon hockley billy zane combine get yes get love story sinking boat supporting characters following personal favorite andrews victor garber idk nice lovejoy david warner murdoch ewan stewart lightoller jonathan phillips captain smith bernard hill molly brown kathy bates many also got present day treasure hunter brock lovett bill paxton add something story something good action awesome especially second half drama also good end eyes dropping rainstorms silent tears story simple works treasure hunter seeks heart ocean instead finds drawing woman wearing said diamond calls tells tale rms titanic two lovers separated social class ultimately fate ship everything story works flaws give titanic awesome']"
      ]
     },
     "execution_count": 8,
     "metadata": {},
     "output_type": "execute_result"
    }
   ],
   "source": [
    "train_set_clean[35:40]"
   ]
  },
  {
   "cell_type": "code",
   "execution_count": 9,
   "id": "1d2b32e4",
   "metadata": {},
   "outputs": [
    {
     "data": {
      "text/plain": [
       "['nicole finn madonna released prison although ordered bus philadelphia wants stick around place arrested claims information would clear record louden griffin dunne assigned escort bus future father law louden driving around city anyway future mother law rolls royce picking wedding ring rare big big cat eccentric collector nicki however starts ensuing mayhem soon jumps rolls take driving big cats taxi drivers hit men bridesmaids wedding cake guns lawyer louden knows kansas anymore way madness film wild trip comedy avenue madonna dunneare perfect foils making connection uproarious play roles con uptight button lawyer respectively script laudable ability send viewer fits hysteria one implausible scene gives way next one next everything secondary supporting actors scenery costumes also quite nice know someone need jolt joy rent movie cheerio pronto',\n",
       " 'rate movie sorry think classic comedy rating madonna movies well wanna tell best movie ever mira sorvino win oscar almost performance ten years later please movie deserves much credit gets plus like think sociological study lifestyles remember could shoplift sam goody cartier day remember women wore bushy eyebrows proudly last emperor still good certain movies would willing watch everyday three actually pep day make smile like girl would also recommend party girl romy michelle high school reunion',\n",
       " 'fan madonna quite sometime however thought would comment film film mistaken one well madonna panned critics highly mistaken many potential viewers turned bad reviews first madonna excellent job movie one first plays ditsy blonde film far ditsy blonde real life critics somewhat prejudiced singing fame give fair shake view film hope understand accent goofiness acting absolutely hysterical film griffen dunne another person given fair review film take look filmography see quite accomplished actor far movie something similar pretty woman came years roberts gere success goof ball comedy lots site gags slapstick one liners comedy deadpan takes comedy aficionado really appreciate subtle humor know tell much movie however hope helps dispel belief poor movie absolutely worth renting enjoyable night great fun peace gary',\n",
       " 'nikki finn kind girl would marry never boring always thinking positively good animals okay one reviewer wrote bit much peroxide lipstick eyebrows madonna could get away love nikki finn ordinary girl makes things happen always exciting around always honest sure steals rob murder unless knows rules broken ones obeyed knows take stolen need favor bottom line knows enjoy life nikki always loving way wild animals completely dedicated loves love girl girl',\n",
       " 'see movie usually seek entertainment course know genre move seek meant example deep film expect film rile thoughts cranium make ponder saying girl deep film entertaining nonetheless campy sort film joy watch barely boring moment film plenty humorous parts watched younger cast always entertaining usual small crush griffin dunne even though typical male heartthrob time haviland morris also stars late austrian actress bibi besch overall delight']"
      ]
     },
     "execution_count": 9,
     "metadata": {},
     "output_type": "execute_result"
    }
   ],
   "source": [
    "test_set_clean[60:65]"
   ]
  },
  {
   "cell_type": "markdown",
   "id": "e7b1146a",
   "metadata": {},
   "source": [
    "## 4. Tokenize and lemmatize\n",
    "\n",
    "After text cleaning, the next step is to tokenize and then lemmatize. \n",
    "\n",
    "Those steps are implemented in the script `helpers.py`."
   ]
  },
  {
   "cell_type": "code",
   "execution_count": 10,
   "id": "26147cc0",
   "metadata": {},
   "outputs": [],
   "source": [
    "from src.helpers import tokenize_and_lemmatize\n",
    "\n",
    "train_set_tok_lem = tokenize_and_lemmatize(train_set_clean)\n",
    "test_set_tok_lem = tokenize_and_lemmatize(test_set_clean)"
   ]
  },
  {
   "cell_type": "code",
   "execution_count": 11,
   "id": "4b054a2f",
   "metadata": {},
   "outputs": [
    {
     "data": {
      "text/plain": [
       "['previously wrote loved titanic cried ending many time guy also wondered great movie many award applauded many critic given rating imdb com user well looked breakdown user rating vote gave rating gave rating irrational imdb user effect pulled overall rating previous comment blamed unusual voting pattern sudden surge rating high rating dropping gradually suddenly reversing course jumping rating level one thing hatred leonardo dicaprio believe tuned enough chat room see banter young people young men mostly defame left right absolutely hate man part giving credit titanic answer one user talking someone really like movie much gave etc everyone entitled taste one convince imdb rating overall titanic pulled level inordinate number ridiculous rating fair reflection overall motion picture let demonstrate point comparing imdb user voting pattern titanic randomly chosen box office critical bomb many prove point heaven gate pulled theater quickly poor box office showing imdb voter rating rating rating overall rating big top pee wee got rating rating overall rating cat people got rating rating overall rating blind date got rating rating overall rating jumpin jack flash got rating rating overall rating film common titanic percentage rating lower titanic none stinker ever nominated single award titanic got rating compare movie mentioned explanation hatred leo factor',\n",
       " 'loved movie since saw opening day touching beautiful strongly recommend seeing movie watch family far mpaa rating thematic element prolonged scene disastor nudity sexuality language',\n",
       " 'movie titanic make much night remember writes tragic history event always talked never forgotten criticised idea could ever make movie like titanic moving touching every time watch could ever replace epic masterpiece almost impossible director doubt major impact film simple disaster film boring watch converted unbelievable romance yes romance type either bother never see romance like guaranteed everything amazing effect music sublime acting movie creates amazing visual wonderful feeling everything look real live legend titanic shown brilliantly class look accommodation acting real effect dicaprio winslet simply best playing role one could done better partly reason film great guess much talk plot simple acting brilliant based true story probably half consumer watch film share tear thanks imaginable ending never forgotten well seen film missing something hesterical film idolise hollywood could get better moving film time listen people see understand landmark surprised cry',\n",
       " 'problem film heard lot criticism saying overlong overrated true three hour long amazed go quickly think overrated think imdb rating perfectly decent film look sumptuous gorgeous costume excellent effect direction james cameron rarely slip focus leonardo dicaprio give one best performance jack kate winslet lovely rose david warner great actor steal every scene story rich detail hot character development obvious love story moving need though first bit movie little slow last hour extremely riveting confess edge seat titanic sank also say last five minute moving music score james horner lovely though never huge fan song heart miniseries good suffered undeveloped scenario historical inaccuracy overall give titanic bethany cox',\n",
       " 'think james cameron might becoming favorite director second review movie anyway everyone remembers rms titanic big fast unsinkable april news one biggest tragedy ever well james cameron decided make movie star two fictional character spotlight instead ship well onto main review let remind opinion zero fact fact present event film two main character jack leonardo dicaprio rose kate winslet annoying much watch find could become annoying tinyurl com ojhoyn main villain guess bad luck fate hand god blasphemy intended plain caledon hockley billy zane combine get yes get love story sinking boat supporting character following personal favorite andrew victor garber idk nice lovejoy david warner murdoch ewan stewart lightoller jonathan phillips captain smith bernard hill molly brown kathy bates many also got present day treasure hunter brock lovett bill paxton add something story something good action awesome especially second half drama also good end eye dropping rainstorm silent tear story simple work treasure hunter seek heart ocean instead find drawing woman wearing said diamond call tell tale rms titanic two lover separated social class ultimately fate ship everything story work flaw give titanic awesome']"
      ]
     },
     "execution_count": 11,
     "metadata": {},
     "output_type": "execute_result"
    }
   ],
   "source": [
    "train_set_tok_lem[35:40]"
   ]
  },
  {
   "cell_type": "code",
   "execution_count": 12,
   "id": "1066e009",
   "metadata": {},
   "outputs": [
    {
     "data": {
      "text/plain": [
       "['nicole finn madonna released prison although ordered bus philadelphia want stick around place arrested claim information would clear record louden griffin dunne assigned escort bus future father law louden driving around city anyway future mother law roll royce picking wedding ring rare big big cat eccentric collector nicki however start ensuing mayhem soon jump roll take driving big cat taxi driver hit men bridesmaid wedding cake gun lawyer louden know kansa anymore way madness film wild trip comedy avenue madonna dunneare perfect foil making connection uproarious play role con uptight button lawyer respectively script laudable ability send viewer fit hysteria one implausible scene give way next one next everything secondary supporting actor scenery costume also quite nice know someone need jolt joy rent movie cheerio pronto',\n",
       " 'rate movie sorry think classic comedy rating madonna movie well wan na tell best movie ever mira sorvino win oscar almost performance ten year later please movie deserves much credit get plus like think sociological study lifestyle remember could shoplift sam goody cartier day remember woman wore bushy eyebrow proudly last emperor still good certain movie would willing watch everyday three actually pep day make smile like girl would also recommend party girl romy michelle high school reunion',\n",
       " 'fan madonna quite sometime however thought would comment film film mistaken one well madonna panned critic highly mistaken many potential viewer turned bad review first madonna excellent job movie one first play ditsy blonde film far ditsy blonde real life critic somewhat prejudiced singing fame give fair shake view film hope understand accent goofiness acting absolutely hysterical film griffen dunne another person given fair review film take look filmography see quite accomplished actor far movie something similar pretty woman came year robert gere success goof ball comedy lot site gag slapstick one liner comedy deadpan take comedy aficionado really appreciate subtle humor know tell much movie however hope help dispel belief poor movie absolutely worth renting enjoyable night great fun peace gary',\n",
       " 'nikki finn kind girl would marry never boring always thinking positively good animal okay one reviewer wrote bit much peroxide lipstick eyebrow madonna could get away love nikki finn ordinary girl make thing happen always exciting around always honest sure steal rob murder unless know rule broken one obeyed know take stolen need favor bottom line know enjoy life nikki always loving way wild animal completely dedicated love love girl girl',\n",
       " 'see movie usually seek entertainment course know genre move seek meant example deep film expect film rile thought cranium make ponder saying girl deep film entertaining nonetheless campy sort film joy watch barely boring moment film plenty humorous part watched younger cast always entertaining usual small crush griffin dunne even though typical male heartthrob time haviland morris also star late austrian actress bibi besch overall delight']"
      ]
     },
     "execution_count": 12,
     "metadata": {},
     "output_type": "execute_result"
    }
   ],
   "source": [
    "test_set_tok_lem[60:65]"
   ]
  },
  {
   "cell_type": "markdown",
   "id": "94382292",
   "metadata": {},
   "source": [
    "## 5. Create numerical representation of words \n",
    "\n",
    "To produce word embeddings, I chose to use the vectorizer provided by Scikit-Learn, which performs the Bag of Words representation. "
   ]
  },
  {
   "cell_type": "code",
   "execution_count": 13,
   "id": "bdfd2c0b",
   "metadata": {},
   "outputs": [],
   "source": [
    "import sklearn\n",
    "from sklearn.feature_extraction.text import CountVectorizer\n",
    "\n",
    "vectorizer = CountVectorizer(binary=True)\n",
    "vectorizer.fit(train_set_tok_lem)\n",
    "X = vectorizer.transform(train_set_tok_lem)\n",
    "X_test = vectorizer.transform(test_set_tok_lem)"
   ]
  },
  {
   "cell_type": "markdown",
   "id": "c1a0d1bb",
   "metadata": {},
   "source": [
    "## 6. Train/Validation/test split\n",
    "\n",
    "To be ready to use the dataset for machine learning, the final step is to split the dataset into train/validation/test sets. This was done using Scikit-Learn. In addition, labels (y) were produced, knowing that the first 12'500 reviews are positive (labeled as 1) and the last 12'500 are negative (labeled as 0). "
   ]
  },
  {
   "cell_type": "code",
   "execution_count": 14,
   "id": "8b9d3530",
   "metadata": {},
   "outputs": [],
   "source": [
    "y = [1 if i < 12500 else 0 for i in range(25000)]"
   ]
  },
  {
   "cell_type": "code",
   "execution_count": 15,
   "id": "5607ff3c",
   "metadata": {},
   "outputs": [],
   "source": [
    "from sklearn.model_selection import train_test_split\n",
    "\n",
    "X_train, X_val, y_train, y_val = train_test_split(X, y, train_size=0.8)"
   ]
  },
  {
   "cell_type": "markdown",
   "id": "fb0e18f3",
   "metadata": {},
   "source": [
    "## 7. Classify using logistic regression"
   ]
  },
  {
   "cell_type": "markdown",
   "id": "7a9ab57f",
   "metadata": {},
   "source": [
    "First, let's try to classify the sentiment using logistic regression (from Scikit-Learn) as baseline. To select the best model, different values of C (L2 regularization) are used and tested on validation set to select the best model. "
   ]
  },
  {
   "cell_type": "code",
   "execution_count": 16,
   "id": "e9005b93",
   "metadata": {},
   "outputs": [
    {
     "name": "stdout",
     "output_type": "stream",
     "text": [
      "Best model is obtained with c = 0.1  leading to a validation accuracy of 0.8854.\n"
     ]
    }
   ],
   "source": [
    "import numpy as np\n",
    "from sklearn.linear_model import LogisticRegression\n",
    "from sklearn.metrics import accuracy_score\n",
    "\n",
    "val_accuracies = list()\n",
    "c_values = np.linspace(0.05, 1, 20)\n",
    "\n",
    "for c in c_values:\n",
    "    log_reg = LogisticRegression(C=c, max_iter=200)\n",
    "    log_reg.fit(X_train, y_train)\n",
    "    val_accuracies.append(accuracy_score(y_val, log_reg.predict(X_val)))\n",
    "\n",
    "best_acc = max(val_accuracies)\n",
    "best_acc_idx = val_accuracies.index(best_acc)\n",
    "\n",
    "print('Best model is obtained with c =', c_values[best_acc_idx], \" leading to a validation accuracy of %s.\" % best_acc)"
   ]
  },
  {
   "cell_type": "code",
   "execution_count": 17,
   "id": "1c551492",
   "metadata": {},
   "outputs": [
    {
     "name": "stdout",
     "output_type": "stream",
     "text": [
      "Accuracy of best model on test set: 0.87712\n"
     ]
    }
   ],
   "source": [
    "best_model = LogisticRegression(C=c_values[best_acc_idx])\n",
    "best_model.fit(X, y)\n",
    "print (\"Accuracy of best model on test set: %s\" % accuracy_score(y, best_model.predict(X_test)))"
   ]
  },
  {
   "cell_type": "markdown",
   "id": "92d28a1e",
   "metadata": {},
   "source": [
    "## 8. Classify using a neural network"
   ]
  },
  {
   "cell_type": "markdown",
   "id": "0ca5d2a5",
   "metadata": {},
   "source": [
    "Let's try to classify with a neural network now. First without regularization and a constant learning rate. "
   ]
  },
  {
   "cell_type": "code",
   "execution_count": 18,
   "id": "f85c92f0",
   "metadata": {},
   "outputs": [
    {
     "name": "stdout",
     "output_type": "stream",
     "text": [
      "Best model is obtained with lr = 0.01  leading to a validation accuracy of 0.8838.\n"
     ]
    }
   ],
   "source": [
    "from sklearn.neural_network import MLPClassifier\n",
    "\n",
    "\n",
    "val_accuracies = list()\n",
    "learning_rates = [1e-4, 1e-3, 1e-2]\n",
    "\n",
    "for lr in learning_rates:\n",
    "    neural_net = MLPClassifier(alpha=0, random_state=1, learning_rate_init=lr, max_iter=100)\n",
    "    neural_net.fit(X_train, y_train)\n",
    "    val_accuracies.append(accuracy_score(y_val, neural_net.predict(X_val)))\n",
    "best_acc = max(val_accuracies)\n",
    "best_acc_idx = val_accuracies.index(best_acc)\n",
    "\n",
    "print('Best model is obtained with lr =', learning_rates[best_acc_idx], \" leading to a validation accuracy of %s.\" % best_acc)"
   ]
  },
  {
   "cell_type": "code",
   "execution_count": 19,
   "id": "94b241ae",
   "metadata": {},
   "outputs": [
    {
     "name": "stdout",
     "output_type": "stream",
     "text": [
      "Accuracy of best model on test set: 0.85504\n"
     ]
    }
   ],
   "source": [
    "best_model = MLPClassifier(alpha=0, random_state=1, learning_rate_init=learning_rates[best_acc_idx], max_iter=100)\n",
    "best_model.fit(X, y)\n",
    "print (\"Accuracy of best model on test set: %s\" % accuracy_score(y, best_model.predict(X_test)))"
   ]
  },
  {
   "cell_type": "markdown",
   "id": "f96fee78",
   "metadata": {},
   "source": [
    "## 9. Further work\n",
    "\n",
    "To further improve this work, I would try other word embeddings methods such as Word2vec or GloVe, which take into account the semantic of the words.\n",
    "\n",
    "In addition, regarding the neural network, several elements could be tuned. I would try more values for the learning rate and I would train for more epochs. Moreover, I would also try to use an adaptive learning rate instead of a constant one, and also try to add some regularization to see if it improves the performances. \n",
    "\n",
    "Then I would also try other neural-networks-based models. "
   ]
  }
 ],
 "metadata": {
  "kernelspec": {
   "display_name": "Python 3",
   "language": "python",
   "name": "python3"
  },
  "language_info": {
   "codemirror_mode": {
    "name": "ipython",
    "version": 3
   },
   "file_extension": ".py",
   "mimetype": "text/x-python",
   "name": "python",
   "nbconvert_exporter": "python",
   "pygments_lexer": "ipython3",
   "version": "3.9.4"
  }
 },
 "nbformat": 4,
 "nbformat_minor": 5
}
